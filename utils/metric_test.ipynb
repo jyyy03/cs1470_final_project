{
 "cells": [
  {
   "cell_type": "code",
   "execution_count": 15,
   "metadata": {},
   "outputs": [],
   "source": [
    "import numpy as np\n",
    "from metric import ConfusionMatrix\n",
    "def test_confusion_matrix():\n",
    "    nclass = 3\n",
    "    classes = ['class1', 'class2', 'class3']\n",
    "    cm = ConfusionMatrix(nclass, classes)\n",
    "\n",
    "    # Test adding ground truth and prediction pair\n",
    "    gt = [0, 1, 2, 0]\n",
    "    pred = [0, 1, 2, 0]\n",
    "    cm.add(gt, pred)\n",
    "    expected_matrix = np.array([[2., 0., 0.],\n",
    "                                [0., 1., 0.],\n",
    "                                [0., 0., 1.]])\n",
    "    assert np.array_equal(cm.M, expected_matrix)\n",
    "    print('passed adding ground truth')\n",
    "\n",
    "    # Test adding a pre-computed confusion matrix\n",
    "    matrix = np.array([[2., 0., 0.],\n",
    "                       [0., 1., 0.],\n",
    "                       [0., 0., 1.]])\n",
    "    cm.addM(matrix)\n",
    "    expected_matrix = 2 * matrix\n",
    "    assert np.array_equal(cm.M, expected_matrix)\n",
    "    print('passed confusion matrix')\n",
    "\n",
    "\n",
    "    # Test recall\n",
    "    recall = cm.recall()\n",
    "    assert recall == 1.0\n",
    "    print('passed recall')\n",
    "\n",
    "\n",
    "    # Test accuracy\n",
    "    accuracy = cm.accuracy()\n",
    "    assert accuracy == 1.0\n",
    "    print('passed accuracy')\n",
    "\n",
    "    # Test jaccard\n",
    "    jaccard_avg, jaccard_perclass, _ = cm.jaccard()\n",
    "    assert jaccard_avg == 1.0\n",
    "    assert jaccard_perclass == [1.0, 1.0, 1.0]\n",
    "    print('passed jaccard')\n",
    "\n",
    "\n",
    "    # Test generateM\n",
    "    generated_matrix = cm.generateM((gt, pred))\n",
    "    expected_matrix = np.array([[2., 0., 0.],\n",
    "                                [0., 1., 0.],\n",
    "                                [0., 0., 1.]])\n",
    "    assert np.array_equal(generated_matrix, expected_matrix)    \n",
    "    print('passed generate matrix')\n"
   ]
  },
  {
   "cell_type": "code",
   "execution_count": 16,
   "metadata": {},
   "outputs": [
    {
     "name": "stdout",
     "output_type": "stream",
     "text": [
      "passed adding ground truth\n",
      "passed confusion matrix\n",
      "passed recall\n",
      "passed accuracy\n",
      "passed jaccard\n",
      "passed generate matrix\n",
      "All tests passed\n"
     ]
    }
   ],
   "source": [
    "test_confusion_matrix()\n",
    "print('All tests passed')"
   ]
  }
 ],
 "metadata": {
  "kernelspec": {
   "display_name": "csci1470",
   "language": "python",
   "name": "python3"
  },
  "language_info": {
   "codemirror_mode": {
    "name": "ipython",
    "version": 3
   },
   "file_extension": ".py",
   "mimetype": "text/x-python",
   "name": "python",
   "nbconvert_exporter": "python",
   "pygments_lexer": "ipython3",
   "version": "3.10.14"
  },
  "orig_nbformat": 4
 },
 "nbformat": 4,
 "nbformat_minor": 2
}
